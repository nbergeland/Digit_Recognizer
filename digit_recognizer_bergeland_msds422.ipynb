{
 "cells": [
  {
   "cell_type": "code",
   "execution_count": 1,
   "metadata": {},
   "outputs": [],
   "source": [
    "import numpy as np\n",
    "import pandas as pd\n",
    "import matplotlib.pyplot as plt\n",
    "%matplotlib inline\n",
    "import seaborn as sns\n",
    "import tensorflow as tf"
   ]
  },
  {
   "cell_type": "code",
   "execution_count": 2,
   "metadata": {},
   "outputs": [
    {
     "data": {
      "text/html": [
       "<div>\n",
       "<style scoped>\n",
       "    .dataframe tbody tr th:only-of-type {\n",
       "        vertical-align: middle;\n",
       "    }\n",
       "\n",
       "    .dataframe tbody tr th {\n",
       "        vertical-align: top;\n",
       "    }\n",
       "\n",
       "    .dataframe thead th {\n",
       "        text-align: right;\n",
       "    }\n",
       "</style>\n",
       "<table border=\"1\" class=\"dataframe\">\n",
       "  <thead>\n",
       "    <tr style=\"text-align: right;\">\n",
       "      <th></th>\n",
       "      <th>label</th>\n",
       "      <th>pixel0</th>\n",
       "      <th>pixel1</th>\n",
       "      <th>pixel2</th>\n",
       "      <th>pixel3</th>\n",
       "      <th>pixel4</th>\n",
       "      <th>pixel5</th>\n",
       "      <th>pixel6</th>\n",
       "      <th>pixel7</th>\n",
       "      <th>pixel8</th>\n",
       "      <th>...</th>\n",
       "      <th>pixel774</th>\n",
       "      <th>pixel775</th>\n",
       "      <th>pixel776</th>\n",
       "      <th>pixel777</th>\n",
       "      <th>pixel778</th>\n",
       "      <th>pixel779</th>\n",
       "      <th>pixel780</th>\n",
       "      <th>pixel781</th>\n",
       "      <th>pixel782</th>\n",
       "      <th>pixel783</th>\n",
       "    </tr>\n",
       "  </thead>\n",
       "  <tbody>\n",
       "    <tr>\n",
       "      <td>0</td>\n",
       "      <td>1</td>\n",
       "      <td>0</td>\n",
       "      <td>0</td>\n",
       "      <td>0</td>\n",
       "      <td>0</td>\n",
       "      <td>0</td>\n",
       "      <td>0</td>\n",
       "      <td>0</td>\n",
       "      <td>0</td>\n",
       "      <td>0</td>\n",
       "      <td>...</td>\n",
       "      <td>0</td>\n",
       "      <td>0</td>\n",
       "      <td>0</td>\n",
       "      <td>0</td>\n",
       "      <td>0</td>\n",
       "      <td>0</td>\n",
       "      <td>0</td>\n",
       "      <td>0</td>\n",
       "      <td>0</td>\n",
       "      <td>0</td>\n",
       "    </tr>\n",
       "    <tr>\n",
       "      <td>1</td>\n",
       "      <td>0</td>\n",
       "      <td>0</td>\n",
       "      <td>0</td>\n",
       "      <td>0</td>\n",
       "      <td>0</td>\n",
       "      <td>0</td>\n",
       "      <td>0</td>\n",
       "      <td>0</td>\n",
       "      <td>0</td>\n",
       "      <td>0</td>\n",
       "      <td>...</td>\n",
       "      <td>0</td>\n",
       "      <td>0</td>\n",
       "      <td>0</td>\n",
       "      <td>0</td>\n",
       "      <td>0</td>\n",
       "      <td>0</td>\n",
       "      <td>0</td>\n",
       "      <td>0</td>\n",
       "      <td>0</td>\n",
       "      <td>0</td>\n",
       "    </tr>\n",
       "    <tr>\n",
       "      <td>2</td>\n",
       "      <td>1</td>\n",
       "      <td>0</td>\n",
       "      <td>0</td>\n",
       "      <td>0</td>\n",
       "      <td>0</td>\n",
       "      <td>0</td>\n",
       "      <td>0</td>\n",
       "      <td>0</td>\n",
       "      <td>0</td>\n",
       "      <td>0</td>\n",
       "      <td>...</td>\n",
       "      <td>0</td>\n",
       "      <td>0</td>\n",
       "      <td>0</td>\n",
       "      <td>0</td>\n",
       "      <td>0</td>\n",
       "      <td>0</td>\n",
       "      <td>0</td>\n",
       "      <td>0</td>\n",
       "      <td>0</td>\n",
       "      <td>0</td>\n",
       "    </tr>\n",
       "    <tr>\n",
       "      <td>3</td>\n",
       "      <td>4</td>\n",
       "      <td>0</td>\n",
       "      <td>0</td>\n",
       "      <td>0</td>\n",
       "      <td>0</td>\n",
       "      <td>0</td>\n",
       "      <td>0</td>\n",
       "      <td>0</td>\n",
       "      <td>0</td>\n",
       "      <td>0</td>\n",
       "      <td>...</td>\n",
       "      <td>0</td>\n",
       "      <td>0</td>\n",
       "      <td>0</td>\n",
       "      <td>0</td>\n",
       "      <td>0</td>\n",
       "      <td>0</td>\n",
       "      <td>0</td>\n",
       "      <td>0</td>\n",
       "      <td>0</td>\n",
       "      <td>0</td>\n",
       "    </tr>\n",
       "    <tr>\n",
       "      <td>4</td>\n",
       "      <td>0</td>\n",
       "      <td>0</td>\n",
       "      <td>0</td>\n",
       "      <td>0</td>\n",
       "      <td>0</td>\n",
       "      <td>0</td>\n",
       "      <td>0</td>\n",
       "      <td>0</td>\n",
       "      <td>0</td>\n",
       "      <td>0</td>\n",
       "      <td>...</td>\n",
       "      <td>0</td>\n",
       "      <td>0</td>\n",
       "      <td>0</td>\n",
       "      <td>0</td>\n",
       "      <td>0</td>\n",
       "      <td>0</td>\n",
       "      <td>0</td>\n",
       "      <td>0</td>\n",
       "      <td>0</td>\n",
       "      <td>0</td>\n",
       "    </tr>\n",
       "  </tbody>\n",
       "</table>\n",
       "<p>5 rows × 785 columns</p>\n",
       "</div>"
      ],
      "text/plain": [
       "   label  pixel0  pixel1  pixel2  pixel3  pixel4  pixel5  pixel6  pixel7  \\\n",
       "0      1       0       0       0       0       0       0       0       0   \n",
       "1      0       0       0       0       0       0       0       0       0   \n",
       "2      1       0       0       0       0       0       0       0       0   \n",
       "3      4       0       0       0       0       0       0       0       0   \n",
       "4      0       0       0       0       0       0       0       0       0   \n",
       "\n",
       "   pixel8  ...  pixel774  pixel775  pixel776  pixel777  pixel778  pixel779  \\\n",
       "0       0  ...         0         0         0         0         0         0   \n",
       "1       0  ...         0         0         0         0         0         0   \n",
       "2       0  ...         0         0         0         0         0         0   \n",
       "3       0  ...         0         0         0         0         0         0   \n",
       "4       0  ...         0         0         0         0         0         0   \n",
       "\n",
       "   pixel780  pixel781  pixel782  pixel783  \n",
       "0         0         0         0         0  \n",
       "1         0         0         0         0  \n",
       "2         0         0         0         0  \n",
       "3         0         0         0         0  \n",
       "4         0         0         0         0  \n",
       "\n",
       "[5 rows x 785 columns]"
      ]
     },
     "execution_count": 2,
     "metadata": {},
     "output_type": "execute_result"
    }
   ],
   "source": [
    "train = pd.read_csv(\"train2.csv\")\n",
    "test = pd.read_csv(\"test2.csv\")\n",
    "train.head()"
   ]
  },
  {
   "cell_type": "code",
   "execution_count": 3,
   "metadata": {},
   "outputs": [
    {
     "data": {
      "text/plain": [
       "((42000, 784), (42000,), (28000, 784))"
      ]
     },
     "execution_count": 3,
     "metadata": {},
     "output_type": "execute_result"
    }
   ],
   "source": [
    "y_train = train['label'].astype('float32')\n",
    "X_train = train.drop(['label'], axis=1).astype('int32')\n",
    "X_test = test.astype('float32')\n",
    "X_train.shape, y_train.shape, X_test.shape"
   ]
  },
  {
   "cell_type": "code",
   "execution_count": 4,
   "metadata": {},
   "outputs": [
    {
     "data": {
      "image/png": "[encoded data removed]",
      "text/plain": [
       "<Figure size 432x288 with 1 Axes>"
      ]
     },
     "metadata": {
      "needs_background": "light"
     },
     "output_type": "display_data"
    }
   ],
   "source": [
    "sns.countplot(x='label', data=train);"
   ]
  },
  {
   "cell_type": "code",
   "execution_count": 5,
   "metadata": {},
   "outputs": [],
   "source": [
    "# Data normalization\n",
    "X_train = X_train/255\n",
    "X_test = X_test/255"
   ]
  },
  {
   "cell_type": "code",
   "execution_count": 6,
   "metadata": {},
   "outputs": [
    {
     "data": {
      "text/plain": [
       "((42000, 28, 28, 1), (28000, 28, 28, 1))"
      ]
     },
     "execution_count": 6,
     "metadata": {},
     "output_type": "execute_result"
    }
   ],
   "source": [
    "X_train = X_train.values.reshape(-1,28,28,1)\n",
    "X_test = X_test.values.reshape(-1,28,28,1)\n",
    "X_train.shape, X_test.shape"
   ]
  },
  {
   "cell_type": "code",
   "execution_count": 7,
   "metadata": {},
   "outputs": [
    {
     "name": "stderr",
     "output_type": "stream",
     "text": [
      "Using TensorFlow backend.\n"
     ]
    },
    {
     "data": {
      "text/plain": [
       "(42000, 10)"
      ]
     },
     "execution_count": 7,
     "metadata": {},
     "output_type": "execute_result"
    }
   ],
   "source": [
    "# one-hot encoding\n",
    "from keras.utils.np_utils import to_categorical\n",
    "y_train = to_categorical(y_train, num_classes = 10)\n",
    "y_train.shape"
   ]
  },
  {
   "cell_type": "code",
   "execution_count": 8,
   "metadata": {},
   "outputs": [
    {
     "name": "stdout",
     "output_type": "stream",
     "text": [
      "0    1\n",
      "1    0\n",
      "2    1\n",
      "3    4\n",
      "4    0\n",
      "Name: label, dtype: int64\n"
     ]
    },
    {
     "data": {
      "text/plain": [
       "array([[0., 1., 0., 0., 0., 0., 0., 0., 0., 0.],\n",
       "       [1., 0., 0., 0., 0., 0., 0., 0., 0., 0.],\n",
       "       [0., 1., 0., 0., 0., 0., 0., 0., 0., 0.],\n",
       "       [0., 0., 0., 0., 1., 0., 0., 0., 0., 0.],\n",
       "       [1., 0., 0., 0., 0., 0., 0., 0., 0., 0.]], dtype=float32)"
      ]
     },
     "execution_count": 8,
     "metadata": {},
     "output_type": "execute_result"
    }
   ],
   "source": [
    "print(train['label'].head())\n",
    "y_train[0:5,:]"
   ]
  },
  {
   "cell_type": "code",
   "execution_count": 9,
   "metadata": {},
   "outputs": [],
   "source": [
    "from sklearn.model_selection import train_test_split\n",
    "X_train, X_cv, y_train, y_cv = train_test_split(X_train, y_train, test_size = 0.1, random_state=42)"
   ]
  },
  {
   "cell_type": "code",
   "execution_count": 10,
   "metadata": {},
   "outputs": [
    {
     "data": {
      "image/png": "[encoded data removed]",
      "text/plain": [
       "<Figure size 432x288 with 1 Axes>"
      ]
     },
     "metadata": {
      "needs_background": "light"
     },
     "output_type": "display_data"
    }
   ],
   "source": [
    "plt.imshow(X_train[1][:,:,0])\n",
    "plt.title(y_train[1].argmax());"
   ]
  },
  {
   "cell_type": "code",
   "execution_count": 11,
   "metadata": {},
   "outputs": [],
   "source": [
    "from keras.layers import Input,InputLayer, Dense, Activation, ZeroPadding2D, BatchNormalization, Flatten, Conv2D\n",
    "from keras.layers import AveragePooling2D, MaxPooling2D, Dropout\n",
    "from keras.models import Sequential,Model\n",
    "from keras.optimizers import SGD\n",
    "from keras.callbacks import ModelCheckpoint,LearningRateScheduler\n",
    "import keras\n",
    "from keras import backend as K"
   ]
  },
  {
   "cell_type": "code",
   "execution_count": 12,
   "metadata": {},
   "outputs": [
    {
     "name": "stdout",
     "output_type": "stream",
     "text": [
      "Model: \"Predict\"\n",
      "_________________________________________________________________\n",
      "Layer (type)                 Output Shape              Param #   \n",
      "=================================================================\n",
      "input_1 (InputLayer)         (None, 28, 28, 1)         0         \n",
      "_________________________________________________________________\n",
      "layer_conv1 (Conv2D)         (None, 28, 28, 64)        640       \n",
      "_________________________________________________________________\n",
      "batch_normalization_1 (Batch (None, 28, 28, 64)        256       \n",
      "_________________________________________________________________\n",
      "activation_1 (Activation)    (None, 28, 28, 64)        0         \n",
      "_________________________________________________________________\n",
      "maxPool1 (MaxPooling2D)      (None, 14, 14, 64)        0         \n",
      "_________________________________________________________________\n",
      "layer_conv2 (Conv2D)         (None, 14, 14, 32)        18464     \n",
      "_________________________________________________________________\n",
      "batch_normalization_2 (Batch (None, 14, 14, 32)        128       \n",
      "_________________________________________________________________\n",
      "activation_2 (Activation)    (None, 14, 14, 32)        0         \n",
      "_________________________________________________________________\n",
      "maxPool2 (MaxPooling2D)      (None, 7, 7, 32)          0         \n",
      "_________________________________________________________________\n",
      "conv3 (Conv2D)               (None, 7, 7, 32)          9248      \n",
      "_________________________________________________________________\n",
      "batch_normalization_3 (Batch (None, 7, 7, 32)          128       \n",
      "_________________________________________________________________\n",
      "activation_3 (Activation)    (None, 7, 7, 32)          0         \n",
      "_________________________________________________________________\n",
      "maxPool3 (MaxPooling2D)      (None, 3, 3, 32)          0         \n",
      "_________________________________________________________________\n",
      "flatten_1 (Flatten)          (None, 288)               0         \n",
      "_________________________________________________________________\n",
      "fc0 (Dense)                  (None, 64)                18496     \n",
      "_________________________________________________________________\n",
      "dropout_1 (Dropout)          (None, 64)                0         \n",
      "_________________________________________________________________\n",
      "fc1 (Dense)                  (None, 32)                2080      \n",
      "_________________________________________________________________\n",
      "dropout_2 (Dropout)          (None, 32)                0         \n",
      "_________________________________________________________________\n",
      "fc2 (Dense)                  (None, 10)                330       \n",
      "=================================================================\n",
      "Total params: 49,770\n",
      "Trainable params: 49,514\n",
      "Non-trainable params: 256\n",
      "_________________________________________________________________\n"
     ]
    }
   ],
   "source": [
    "# Building a CNN model\n",
    "input_shape = (28,28,1)\n",
    "X_input = Input(input_shape)\n",
    "\n",
    "# layer 1\n",
    "x = Conv2D(64,(3,3),strides=(1,1),name='layer_conv1',padding='same')(X_input)\n",
    "x = BatchNormalization()(x)\n",
    "x = Activation('relu')(x)\n",
    "x = MaxPooling2D((2,2),name='maxPool1')(x)\n",
    "# layer 2\n",
    "x = Conv2D(32,(3,3),strides=(1,1),name='layer_conv2',padding='same')(x)\n",
    "x = BatchNormalization()(x)\n",
    "x = Activation('relu')(x)\n",
    "x = MaxPooling2D((2,2),name='maxPool2')(x)\n",
    "# layer 3\n",
    "x = Conv2D(32,(3,3),strides=(1,1),name='conv3',padding='same')(x)\n",
    "x = BatchNormalization()(x)\n",
    "x = Activation('relu')(x)\n",
    "x = MaxPooling2D((2,2), name='maxPool3')(x)\n",
    "# fc\n",
    "x = Flatten()(x)\n",
    "x = Dense(64,activation ='relu',name='fc0')(x)\n",
    "x = Dropout(0.25)(x)\n",
    "x = Dense(32,activation ='relu',name='fc1')(x)\n",
    "x = Dropout(0.25)(x)\n",
    "x = Dense(10,activation ='softmax',name='fc2')(x)\n",
    "\n",
    "conv_model = Model(inputs=X_input, outputs=x, name='Predict')\n",
    "conv_model.summary()"
   ]
  },
  {
   "cell_type": "code",
   "execution_count": 14,
   "metadata": {},
   "outputs": [
    {
     "ename": "NameError",
     "evalue": "name 'df' is not defined",
     "output_type": "error",
     "traceback": [
      "\u001b[0;31m---------------------------------------------------------------------------\u001b[0m",
      "\u001b[0;31mNameError\u001b[0m                                 Traceback (most recent call last)",
      "\u001b[0;32m<ipython-input-14-c6a67f414158>\u001b[0m in \u001b[0;36m<module>\u001b[0;34m\u001b[0m\n\u001b[1;32m      2\u001b[0m \u001b[0;32mfrom\u001b[0m \u001b[0msklearn\u001b[0m \u001b[0;32mimport\u001b[0m \u001b[0mtree\u001b[0m\u001b[0;34m\u001b[0m\u001b[0;34m\u001b[0m\u001b[0m\n\u001b[1;32m      3\u001b[0m \u001b[0;34m\u001b[0m\u001b[0m\n\u001b[0;32m----> 4\u001b[0;31m \u001b[0mtree_set\u001b[0m \u001b[0;34m=\u001b[0m \u001b[0mdf\u001b[0m\u001b[0;34m.\u001b[0m\u001b[0mcopy\u001b[0m\u001b[0;34m(\u001b[0m\u001b[0;34m)\u001b[0m\u001b[0;34m\u001b[0m\u001b[0;34m\u001b[0m\u001b[0m\n\u001b[0m\u001b[1;32m      5\u001b[0m \u001b[0mtarget\u001b[0m \u001b[0;34m=\u001b[0m \u001b[0mtree_set\u001b[0m\u001b[0;34m.\u001b[0m\u001b[0miloc\u001b[0m\u001b[0;34m[\u001b[0m\u001b[0;34m:\u001b[0m\u001b[0;34m,\u001b[0m\u001b[0;36m0\u001b[0m\u001b[0;34m]\u001b[0m\u001b[0;34m\u001b[0m\u001b[0;34m\u001b[0m\u001b[0m\n\u001b[1;32m      6\u001b[0m \u001b[0mtree_set_X\u001b[0m \u001b[0;34m=\u001b[0m \u001b[0mtree_set\u001b[0m\u001b[0;34m.\u001b[0m\u001b[0miloc\u001b[0m\u001b[0;34m[\u001b[0m\u001b[0;34m:\u001b[0m\u001b[0;34m,\u001b[0m\u001b[0;36m1\u001b[0m\u001b[0;34m:\u001b[0m\u001b[0;34m]\u001b[0m\u001b[0;34m\u001b[0m\u001b[0;34m\u001b[0m\u001b[0m\n",
      "\u001b[0;31mNameError\u001b[0m: name 'df' is not defined"
     ]
    }
   ],
   "source": [
    "from sklearn.tree import DecisionTreeClassifier\n",
    "from sklearn import tree\n",
    "\n",
    "tree_set = df.copy()\n",
    "target = tree_set.iloc[:,0]\n",
    "tree_set_X = tree_set.iloc[:,1:] \n",
    "\n",
    "clf = DecisionTreeClassifier(max_depth=4)\n",
    "clf.fit(tree_set_X, target)\n",
    "clf.score(tree_set_X, target)"
   ]
  },
  {
   "cell_type": "code",
   "execution_count": 13,
   "metadata": {},
   "outputs": [
    {
     "name": "stdout",
     "output_type": "stream",
     "text": [
      "Train on 37800 samples, validate on 4200 samples\n",
      "Epoch 1/10\n",
      "37800/37800 [==============================] - 144s 4ms/step - loss: 0.4887 - accuracy: 0.8468 - val_loss: 0.6940 - val_accuracy: 0.8188\n",
      "Epoch 2/10\n",
      "37800/37800 [==============================] - 138s 4ms/step - loss: 0.1349 - accuracy: 0.9610 - val_loss: 0.0763 - val_accuracy: 0.9776\n",
      "Epoch 3/10\n",
      "37800/37800 [==============================] - 138s 4ms/step - loss: 0.0911 - accuracy: 0.9744 - val_loss: 0.0541 - val_accuracy: 0.9857\n",
      "Epoch 4/10\n",
      "37800/37800 [==============================] - 138s 4ms/step - loss: 0.0760 - accuracy: 0.9791 - val_loss: 0.0640 - val_accuracy: 0.9840\n",
      "Epoch 5/10\n",
      "37800/37800 [==============================] - 138s 4ms/step - loss: 0.0629 - accuracy: 0.9824 - val_loss: 0.0658 - val_accuracy: 0.9795\n",
      "Epoch 6/10\n",
      "37800/37800 [==============================] - 142s 4ms/step - loss: 0.0566 - accuracy: 0.9845 - val_loss: 0.0549 - val_accuracy: 0.9838\n",
      "Epoch 7/10\n",
      "37800/37800 [==============================] - 139s 4ms/step - loss: 0.0471 - accuracy: 0.9872 - val_loss: 0.0378 - val_accuracy: 0.9902\n",
      "Epoch 8/10\n",
      "37800/37800 [==============================] - 139s 4ms/step - loss: 0.0460 - accuracy: 0.9872 - val_loss: 0.0558 - val_accuracy: 0.9864\n",
      "Epoch 9/10\n",
      "37800/37800 [==============================] - 139s 4ms/step - loss: 0.0363 - accuracy: 0.9893 - val_loss: 0.0427 - val_accuracy: 0.9888\n",
      "Epoch 10/10\n",
      "37800/37800 [==============================] - 140s 4ms/step - loss: 0.0366 - accuracy: 0.9899 - val_loss: 0.0680 - val_accuracy: 0.9850\n"
     ]
    },
    {
     "data": {
      "text/plain": [
       "<keras.callbacks.callbacks.History at 0x7f8bee1d2850>"
      ]
     },
     "execution_count": 13,
     "metadata": {},
     "output_type": "execute_result"
    }
   ],
   "source": [
    "# Adam optimizer\n",
    "conv_model.compile(optimizer='adam',loss='categorical_crossentropy',metrics=['accuracy'])\n",
    "conv_model.fit(X_train, y_train, epochs=10, batch_size=100, validation_data=(X_cv,y_cv))"
   ]
  },
  {
   "cell_type": "code",
   "execution_count": 14,
   "metadata": {},
   "outputs": [
    {
     "name": "stdout",
     "output_type": "stream",
     "text": [
      "Train on 37800 samples, validate on 4200 samples\n",
      "Epoch 1/30\n",
      "37800/37800 [==============================] - 173s 5ms/step - loss: 0.0288 - accuracy: 0.9922 - val_loss: 0.0345 - val_accuracy: 0.9929\n",
      "Epoch 2/30\n",
      "37800/37800 [==============================] - 170s 5ms/step - loss: 0.0237 - accuracy: 0.9937 - val_loss: 0.0337 - val_accuracy: 0.9929\n",
      "Epoch 3/30\n",
      "37800/37800 [==============================] - 172s 5ms/step - loss: 0.0208 - accuracy: 0.9943 - val_loss: 0.0327 - val_accuracy: 0.9929\n",
      "Epoch 4/30\n",
      "37800/37800 [==============================] - 1599s 42ms/step - loss: 0.0188 - accuracy: 0.9949 - val_loss: 0.0327 - val_accuracy: 0.9938\n",
      "Epoch 5/30\n",
      "37800/37800 [==============================] - 1359s 36ms/step - loss: 0.0192 - accuracy: 0.9947 - val_loss: 0.0330 - val_accuracy: 0.9926\n",
      "Epoch 6/30\n",
      "37800/37800 [==============================] - 322s 9ms/step - loss: 0.0178 - accuracy: 0.9951 - val_loss: 0.0327 - val_accuracy: 0.9929\n",
      "Epoch 7/30\n",
      "37800/37800 [==============================] - 1389s 37ms/step - loss: 0.0183 - accuracy: 0.9947 - val_loss: 0.0323 - val_accuracy: 0.9933\n",
      "Epoch 8/30\n",
      "37800/37800 [==============================] - 2006s 53ms/step - loss: 0.0186 - accuracy: 0.9948 - val_loss: 0.0320 - val_accuracy: 0.9933\n",
      "Epoch 9/30\n",
      "37800/37800 [==============================] - 1214s 32ms/step - loss: 0.0162 - accuracy: 0.9960 - val_loss: 0.0321 - val_accuracy: 0.9938\n",
      "Epoch 10/30\n",
      "37800/37800 [==============================] - 177s 5ms/step - loss: 0.0172 - accuracy: 0.9952 - val_loss: 0.0324 - val_accuracy: 0.9938\n",
      "Epoch 11/30\n",
      "37800/37800 [==============================] - 174s 5ms/step - loss: 0.0166 - accuracy: 0.9957 - val_loss: 0.0329 - val_accuracy: 0.9940\n",
      "Epoch 12/30\n",
      "37800/37800 [==============================] - 172s 5ms/step - loss: 0.0170 - accuracy: 0.9952 - val_loss: 0.0325 - val_accuracy: 0.9940\n",
      "Epoch 13/30\n",
      "37800/37800 [==============================] - 568s 15ms/step - loss: 0.0169 - accuracy: 0.9953 - val_loss: 0.0319 - val_accuracy: 0.9943\n",
      "Epoch 14/30\n",
      "37800/37800 [==============================] - 180s 5ms/step - loss: 0.0158 - accuracy: 0.9958 - val_loss: 0.0321 - val_accuracy: 0.9938\n",
      "Epoch 15/30\n",
      "37800/37800 [==============================] - 179s 5ms/step - loss: 0.0156 - accuracy: 0.9959 - val_loss: 0.0321 - val_accuracy: 0.9938\n",
      "Epoch 16/30\n",
      "37800/37800 [==============================] - 179s 5ms/step - loss: 0.0148 - accuracy: 0.9963 - val_loss: 0.0324 - val_accuracy: 0.9936\n",
      "Epoch 17/30\n",
      "37800/37800 [==============================] - 181s 5ms/step - loss: 0.0163 - accuracy: 0.9953 - val_loss: 0.0328 - val_accuracy: 0.9938\n",
      "Epoch 18/30\n",
      "37800/37800 [==============================] - 180s 5ms/step - loss: 0.0153 - accuracy: 0.9958 - val_loss: 0.0328 - val_accuracy: 0.9936\n",
      "Epoch 19/30\n",
      "37800/37800 [==============================] - 184s 5ms/step - loss: 0.0159 - accuracy: 0.9958 - val_loss: 0.0331 - val_accuracy: 0.9938\n",
      "Epoch 20/30\n",
      "37800/37800 [==============================] - 181s 5ms/step - loss: 0.0137 - accuracy: 0.9963 - val_loss: 0.0329 - val_accuracy: 0.9938\n",
      "Epoch 21/30\n",
      "37800/37800 [==============================] - 180s 5ms/step - loss: 0.0153 - accuracy: 0.9959 - val_loss: 0.0325 - val_accuracy: 0.9936\n",
      "Epoch 22/30\n",
      "37800/37800 [==============================] - 180s 5ms/step - loss: 0.0154 - accuracy: 0.9958 - val_loss: 0.0325 - val_accuracy: 0.9933\n",
      "Epoch 23/30\n",
      "37800/37800 [==============================] - 182s 5ms/step - loss: 0.0151 - accuracy: 0.9957 - val_loss: 0.0324 - val_accuracy: 0.9936\n",
      "Epoch 24/30\n",
      "37800/37800 [==============================] - 182s 5ms/step - loss: 0.0152 - accuracy: 0.9958 - val_loss: 0.0328 - val_accuracy: 0.9938\n",
      "Epoch 25/30\n",
      "37800/37800 [==============================] - 183s 5ms/step - loss: 0.0134 - accuracy: 0.9966 - val_loss: 0.0323 - val_accuracy: 0.9940\n",
      "Epoch 26/30\n",
      "37800/37800 [==============================] - 182s 5ms/step - loss: 0.0145 - accuracy: 0.9959 - val_loss: 0.0323 - val_accuracy: 0.9943\n",
      "Epoch 27/30\n",
      "37800/37800 [==============================] - 187s 5ms/step - loss: 0.0130 - accuracy: 0.9965 - val_loss: 0.0326 - val_accuracy: 0.9938\n",
      "Epoch 28/30\n",
      "37800/37800 [==============================] - 182s 5ms/step - loss: 0.0137 - accuracy: 0.9960 - val_loss: 0.0324 - val_accuracy: 0.9940\n",
      "Epoch 29/30\n",
      "37800/37800 [==============================] - 183s 5ms/step - loss: 0.0139 - accuracy: 0.9961 - val_loss: 0.0329 - val_accuracy: 0.9936\n",
      "Epoch 30/30\n",
      "37800/37800 [==============================] - 184s 5ms/step - loss: 0.0151 - accuracy: 0.9958 - val_loss: 0.0326 - val_accuracy: 0.9933\n"
     ]
    },
    {
     "data": {
      "text/plain": [
       "<keras.callbacks.callbacks.History at 0x7f8bf7b7c350>"
      ]
     },
     "execution_count": 14,
     "metadata": {},
     "output_type": "execute_result"
    }
   ],
   "source": [
    "# SGD optimizer\n",
    "sgd = SGD(lr=0.0005, momentum=0.5, decay=0.0, nesterov=False) \n",
    "conv_model.compile(optimizer=sgd,loss='categorical_crossentropy',metrics=['accuracy'])\n",
    "conv_model.fit(X_train, y_train, epochs=30, validation_data=(X_cv, y_cv))"
   ]
  },
  {
   "cell_type": "code",
   "execution_count": 16,
   "metadata": {},
   "outputs": [],
   "source": [
    "y_pred = conv_model.predict(X_test)\n",
    "y_pred = np.argmax(y_pred,axis=1)\n",
    "my_submission = pd.DataFrame({'ImageId': list(range(1, len(y_pred)+1)), 'Label': y_pred})\n",
    "my_submission.to_csv('dig_submission.csv', index=False)"
   ]
  },
  {
   "cell_type": "code",
   "execution_count": null,
   "metadata": {},
   "outputs": [],
   "source": [
    "sriram2397. “Digit-Recognizer-Kaggle/digit_recognizer.Ipynb at Master · SRIRAM2397/Digit-Recognizer-Kaggle.” GitHub. Accessed February 6, 2022. https://github.com/sriram2397/digit-recognizer-kaggle/blob/master/Digit_Recognizer.ipynb. "
   ]
  }
 ],
 "metadata": {
  "kernelspec": {
   "display_name": "Python 3",
   "language": "python",
   "name": "python3"
  },
  "language_info": {
   "codemirror_mode": {
    "name": "ipython",
    "version": 3
   },
   "file_extension": ".py",
   "mimetype": "text/x-python",
   "name": "python",
   "nbconvert_exporter": "python",
   "pygments_lexer": "ipython3",
   "version": "3.7.4"
  }
 },
 "nbformat": 4,
 "nbformat_minor": 2
}
